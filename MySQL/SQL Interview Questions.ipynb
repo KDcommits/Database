{
 "cells": [
  {
   "cell_type": "markdown",
   "metadata": {},
   "source": [
    "<h3 align=\"center\"> SQL Interview Questions </h3>"
   ]
  },
  {
   "cell_type": "markdown",
   "metadata": {},
   "source": [
    "- **What do you mean by DBMS? What are its different types?**\n",
    "A Database Management System (DBMS) is a  software application that interacts with the user, applications, and the database itself to capture and analyze data.<br>\n",
    "There are two types of DBMS:<br>\n",
    "\n",
    "1. Relational Database Management System: The data is stored in relations (tables). Example – MySQL.\n",
    "2. Non-Relational Database Management System: There is no concept of relations, tuples and attributes.  Example – MongoDB"
   ]
  },
  {
   "cell_type": "markdown",
   "metadata": {},
   "source": [
    "- **What are Constraints?**<br>\n",
    "Constraints in SQL are used to specify the limit on the data type of the table. It can be specified while creating or altering the table statement. The sample of constraints are:\n",
    "\n",
    "    - NOT NULL\n",
    "    - CHECK\n",
    "    - DEFAULT\n",
    "    - UNIQUE\n",
    "    - PRIMARY KEY\n",
    "    - FOREIGN KEY"
   ]
  },
  {
   "cell_type": "markdown",
   "metadata": {},
   "source": [
    "- **What are the different operators available in SQL?**<br>\n",
    "There are three operators available in SQL, namely:\n",
    "\n",
    "    - Arithmetic Operators\n",
    "    - Logical Operators\n",
    "    - Comparison Operators"
   ]
  },
  {
   "cell_type": "markdown",
   "metadata": {},
   "source": [
    "- **What is a Primary key?**<br>\n",
    "A Primary key in SQL is a column (or collection of columns) or a set of columns that uniquely identifies each row in the table.Uniquely identifies a single row in the table.Null values not allowed"
   ]
  },
  {
   "cell_type": "markdown",
   "metadata": {},
   "source": [
    "- **What is a Unique key?**<br>\n",
    "Uniquely identifies a single row in the table.Multiple values allowed per table.Null values allowed."
   ]
  },
  {
   "cell_type": "markdown",
   "metadata": {},
   "source": [
    "- **ACID Properties in DBMS**<br>\n",
    "A transaction is a single logical unit of work which accesses and possibly modifies the contents of a database. Transactions access data using read and write operations. In order to maintain consistency in a database, before and after the transaction, certain properties are followed. These are called ACID properties.\n",
    "link : https://www.geeksforgeeks.org/acid-properties-in-dbms/\n",
    "    - **Atomicity:** ALL or Nothing, If a transaction is taking place i.e. if some data is been written to the database then the transaction must occur Fully or no transaction should take place\n",
    "    - **Consistancy:** It's a measure of correctness. it assures if the data written to the database is correct or not.\n",
    "    - **Isolation:** If one transaction is taking place to write something to the database then it must be ensured that this perticular transaction must not hamper any other Transaction\n",
    "    - **Durability:** The data that is been stored must be durable i.e. it must not temporary. every transaction need to be permanent."
   ]
  },
  {
   "cell_type": "markdown",
   "metadata": {},
   "source": [
    "- **Difference between Insert and Insert Ignore**<br>\n",
    "    - When you use the INSERT statement to add multiple rows to a table and if an error occurs during the processing, MySQL terminates the statement and returns an error. As the result, no rows are inserted into the table.\n",
    "\n",
    "    - However, if you use the INSERT IGNORE statement, the rows with invalid data that cause the error are ignored and the rows with valid data are inserted into the table."
   ]
  },
  {
   "attachments": {
    "image.png": {
     "image/png": "[encoded data removed]"
    }
   },
   "cell_type": "markdown",
   "metadata": {},
   "source": [
    "- **What are the syntax and use of the COALESCE function**\n",
    "   - The COALESCE() function evaluates the arguments in sequence and returns the first NON-NULL value in a specified number of expressions.If it evaluates arguments as NULL or not found any NON-NULL value, it returns the NULL result.\n",
    "   ![image.png](attachment:image.png)"
   ]
  },
  {
   "cell_type": "markdown",
   "metadata": {},
   "source": [
    "- **Difference Between Where and Having:**<br>\n",
    "The main difference between them is that the WHERE clause is used to specify a condition for filtering records before any groupings are made, while the HAVING clause is used to specify a condition for filtering values from a group."
   ]
  },
  {
   "cell_type": "markdown",
   "metadata": {},
   "source": [
    "- **What is SQL Injection?**<br>\n",
    "SQL injection is a type of vulnerability in website and web app code that allows attackers to control back-end operations and access, retrieve, and destroy sensitive data from databases. In this technique, malicious SQL statements are inserted into a database entry field, and once they are performed, the database becomes vulnerable to an attacker. This technique is commonly used to access sensitive data and perform administrative activities on databases by exploiting data-driven applications. It is also known as SQLi attack.\n"
   ]
  },
  {
   "cell_type": "markdown",
   "metadata": {},
   "source": [
    "- **What is Data Integrity?**<br>\n",
    "Data Integrity is the assurance of accuracy and consistency of data over its entire life-cycle"
   ]
  },
  {
   "cell_type": "markdown",
   "metadata": {},
   "source": [
    "- **Cardinality**<br> refers to the uniqueness of values in a column (or attribute) of a table and is commonly used to describe \n",
    "how two tables relate (one-to-one, one-to-many, or many-to-many)."
   ]
  },
  {
   "cell_type": "markdown",
   "metadata": {},
   "source": [
    "- **How to change a table name in SQL?**<br>\n",
    "ALTER TABLE table_name<br>\n",
    "RENAME TO new_table_name;"
   ]
  },
  {
   "cell_type": "markdown",
   "metadata": {},
   "source": [
    "- **What is the update command in SQL?**<br>\n",
    "UPDATE employees<br>\n",
    "SET last_name=‘Cohen’<br>\n",
    "WHERE employee_id=101;"
   ]
  },
  {
   "cell_type": "markdown",
   "metadata": {},
   "source": [
    "- **Can you get the list of employees with same salary from EMPLOYEE Table?**<br>\n",
    "Select distinct e.empid,e.empname,e.salary from employee e, employee e1 where e.salary =e1.salary and e.empid != e1.empid "
   ]
  },
  {
   "cell_type": "markdown",
   "metadata": {},
   "source": [
    "- **How to find the nth highest salary in SQL from Employee data?**<br>\n",
    "with rank_info as\n",
    "<br>(select employeeId,salary,rank() over(order by salary desc) as Rank)<br>\n",
    "select * from rank_info where Rank=n;"
   ]
  },
  {
   "cell_type": "markdown",
   "metadata": {},
   "source": [
    "- **How to copy table in SQL?**<br>\n",
    "SELECT *<br>\n",
    "INTO newtable<br>\n",
    "FROM oldtable<br>\n",
    "WHERE condition;"
   ]
  },
  {
   "cell_type": "markdown",
   "metadata": {},
   "source": [
    "- **Write a Query to display odd records from student table?**<br>\n",
    "SELECT * FROM (SELECT *, ROW_NUMBER() OVER (ORDER BY student_no) AS RowID FROM student) WHERE row_id %2!=0"
   ]
  },
  {
   "cell_type": "markdown",
   "metadata": {},
   "source": [
    "- **What is the difference between primary key and unique constraints?**<br>\n",
    "Primary key cannot have NULL value, the unique constraints can have NULL values. There is only one primary key in a table, but there can be multiple unique constrains. The primary key creates the cluster index automatically but the Unique key does not."
   ]
  },
  {
   "cell_type": "markdown",
   "metadata": {},
   "source": []
  },
  {
   "cell_type": "code",
   "execution_count": null,
   "metadata": {},
   "outputs": [],
   "source": []
  }
 ],
 "metadata": {
  "kernelspec": {
   "display_name": "Python 3",
   "language": "python",
   "name": "python3"
  },
  "language_info": {
   "codemirror_mode": {
    "name": "ipython",
    "version": 3
   },
   "file_extension": ".py",
   "mimetype": "text/x-python",
   "name": "python",
   "nbconvert_exporter": "python",
   "pygments_lexer": "ipython3",
   "version": "3.8.5"
  }
 },
 "nbformat": 4,
 "nbformat_minor": 4
}
