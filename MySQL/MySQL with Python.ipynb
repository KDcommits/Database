{
 "cells": [
  {
   "cell_type": "markdown",
   "metadata": {},
   "source": [
    "#### Imports"
   ]
  },
  {
   "cell_type": "code",
   "execution_count": 28,
   "metadata": {},
   "outputs": [],
   "source": [
    "import os\n",
    "import warnings\n",
    "from dotenv import load_dotenv\n",
    "warnings.filterwarnings('ignore')\n",
    "import mysql.connector as connection \n",
    "load_dotenv()\n",
    "\n",
    "hostname = os.getenv('DB_HOST')\n",
    "username = os.getenv('DB_USERNAME')\n",
    "password =  os.getenv('DB_PASSWORD')"
   ]
  },
  {
   "cell_type": "markdown",
   "metadata": {},
   "source": [
    "#### 1. Setting Connection with Database"
   ]
  },
  {
   "cell_type": "code",
   "execution_count": 7,
   "metadata": {},
   "outputs": [
    {
     "name": "stdout",
     "output_type": "stream",
     "text": [
      "True\n"
     ]
    }
   ],
   "source": [
    "#### To check if connection is established with the Database\n",
    "try:\n",
    "    mydb=connection.connect(host=hostname,user=username,password=password,use_pure=True)\n",
    "    print(mydb.is_connected())                                   \n",
    "    mydb.close()\n",
    "except Exception as e:\n",
    "    print(str(e))"
   ]
  },
  {
   "cell_type": "code",
   "execution_count": 8,
   "metadata": {},
   "outputs": [
    {
     "name": "stdout",
     "output_type": "stream",
     "text": [
      "[('canondb',), ('classicmodels',), ('hr_analytics',), ('information_schema',), ('mavenfuzzyfactory',), ('mysql',), ('mysqlsampledb',), ('performance_schema',), ('sys',)]\n"
     ]
    }
   ],
   "source": [
    "# Getting the default Databases present in MySQL workbench \n",
    "\n",
    "mydb=connection.connect(host=hostname,user=username,password=password,use_pure=True)\n",
    "query=\"SHOW DATABASES\"         # Writting the query \n",
    "cursor=mydb.cursor()           # creating a cursor to execute the queries \n",
    "cursor.execute(query)          # Executing the query\n",
    "print(cursor.fetchall())       # Fetching the query result\n",
    "mydb.close()"
   ]
  },
  {
   "cell_type": "markdown",
   "metadata": {},
   "source": [
    "#### 2. Creating a Database"
   ]
  },
  {
   "cell_type": "code",
   "execution_count": 10,
   "metadata": {},
   "outputs": [
    {
     "name": "stdout",
     "output_type": "stream",
     "text": [
      "Database MyDatabase created !\n"
     ]
    }
   ],
   "source": [
    "# creating a new database \n",
    "try:\n",
    "    mydb=connection.connect(host=\"localhost\",user=username,password=password,use_pure=True)\n",
    "    db_name = 'MyDatabase'\n",
    "    query= f\"create database {db_name}\"\n",
    "    cursor=mydb.cursor()           \n",
    "    cursor.execute(query)          \n",
    "    print(f\"Database {db_name} created !\")\n",
    "    mydb.close()\n",
    "except Exception as e:\n",
    "    print(e)"
   ]
  },
  {
   "cell_type": "code",
   "execution_count": 4,
   "metadata": {},
   "outputs": [
    {
     "name": "stdout",
     "output_type": "stream",
     "text": [
      "Database Deleted !\n"
     ]
    }
   ],
   "source": [
    "# # Deleting a Database\n",
    "# query= \"drop database MyDatabase\"\n",
    "# cursor=mydb.cursor()           \n",
    "# cursor.execute(query)          \n",
    "# print(\"Database Deleted !\")"
   ]
  },
  {
   "cell_type": "markdown",
   "metadata": {},
   "source": [
    "#### 3. Create a table inside a database"
   ]
  },
  {
   "cell_type": "code",
   "execution_count": 11,
   "metadata": {},
   "outputs": [
    {
     "name": "stdout",
     "output_type": "stream",
     "text": [
      "True\n"
     ]
    }
   ],
   "source": [
    "# creating table to the database \"MyDatabase\"\n",
    "# Dont miss putting the database name in the connect function argument\n",
    "try:\n",
    "    mydb=connection.connect(host=hostname,user=username,password=password,\n",
    "                            database=\"MyDatabase\", use_pure=True)\n",
    "    ## Check if the database connection is being established\n",
    "    print(mydb.is_connected())                                   \n",
    "    mydb.close()\n",
    "except Exception as e:\n",
    "    print(str(e))"
   ]
  },
  {
   "cell_type": "code",
   "execution_count": 12,
   "metadata": {},
   "outputs": [
    {
     "name": "stdout",
     "output_type": "stream",
     "text": [
      "Table Students created !\n"
     ]
    }
   ],
   "source": [
    "try:\n",
    "    mydb=connection.connect(host=hostname,user=username,password=password,\n",
    "                            database=\"MyDatabase\", use_pure=True)     \n",
    "    table_name = 'Students'                       \n",
    "    query=f\"create table {table_name} (Student_ID int(10) auto_increment primary key,\\\n",
    "            First_Name Varchar(20) ,Last_Name Varchar(20), Score int(3))\"\n",
    "    cursor=mydb.cursor()           \n",
    "    cursor.execute(query)          \n",
    "    print(f\"Table {table_name} created !\")    \n",
    "    mydb.close()\n",
    "except Exception as e:\n",
    "    print(str(e))"
   ]
  },
  {
   "cell_type": "markdown",
   "metadata": {},
   "source": [
    "#### 4. Insert Records inside the Table"
   ]
  },
  {
   "cell_type": "code",
   "execution_count": 13,
   "metadata": {},
   "outputs": [
    {
     "name": "stdout",
     "output_type": "stream",
     "text": [
      "Data Inserted into the table\n"
     ]
    }
   ],
   "source": [
    "# Inserting Data into the Table\n",
    "try:\n",
    "    mydb=connection.connect(host=hostname,user=username,password=password,\n",
    "                            database=\"MyDatabase\", use_pure=True)  \n",
    "    query1=\"Insert into Students Values(201615001,'Abheek','Nandy',91)\"\n",
    "    query2=\"Insert into Students Values(201615002,'Anindya','Das',81)\"\n",
    "    query3=\"Insert into Students Values(201615003,'Abhishek','Roy',87)\"\n",
    "    queries=[query1,query2,query3]\n",
    "    for i in queries:\n",
    "        cursor=mydb.cursor()           \n",
    "        cursor.execute(i)\n",
    "        mydb.commit()                               \n",
    "    print(\"Data Inserted into the table\")\n",
    "    mydb.close()\n",
    "    \n",
    "except Exception as e:\n",
    "    print(str(e))"
   ]
  },
  {
   "cell_type": "markdown",
   "metadata": {},
   "source": [
    "#### 5. Fetching records from the table"
   ]
  },
  {
   "cell_type": "code",
   "execution_count": 14,
   "metadata": {},
   "outputs": [
    {
     "name": "stdout",
     "output_type": "stream",
     "text": [
      "[(201615001, 'Abheek', 'Nandy', 91), (201615002, 'Anindya', 'Das', 81), (201615003, 'Abhishek', 'Roy', 87)]\n"
     ]
    }
   ],
   "source": [
    "# Retreiving data from the Database\n",
    "try:\n",
    "    mydb=connection.connect(host=hostname,user=username,password=password,\n",
    "                            database=\"MyDatabase\", use_pure=True) \n",
    "    query=\"Select * from Students\"\n",
    "    cursor=mydb.cursor()           \n",
    "    cursor.execute(query)\n",
    "    print(cursor.fetchall())\n",
    "\n",
    "except Exception as e:\n",
    "    print(e)"
   ]
  },
  {
   "cell_type": "markdown",
   "metadata": {},
   "source": [
    "#### 6. Insert and Query a Whole Dataframe into MYSQL database"
   ]
  },
  {
   "cell_type": "code",
   "execution_count": 21,
   "metadata": {},
   "outputs": [
    {
     "data": {
      "text/html": [
       "<div>\n",
       "<style scoped>\n",
       "    .dataframe tbody tr th:only-of-type {\n",
       "        vertical-align: middle;\n",
       "    }\n",
       "\n",
       "    .dataframe tbody tr th {\n",
       "        vertical-align: top;\n",
       "    }\n",
       "\n",
       "    .dataframe thead th {\n",
       "        text-align: right;\n",
       "    }\n",
       "</style>\n",
       "<table border=\"1\" class=\"dataframe\">\n",
       "  <thead>\n",
       "    <tr style=\"text-align: right;\">\n",
       "      <th></th>\n",
       "      <th>District</th>\n",
       "      <th>State</th>\n",
       "      <th>Literacy</th>\n",
       "    </tr>\n",
       "  </thead>\n",
       "  <tbody>\n",
       "    <tr>\n",
       "      <th>0</th>\n",
       "      <td>Thane</td>\n",
       "      <td>Maharashtra</td>\n",
       "      <td>84.53</td>\n",
       "    </tr>\n",
       "    <tr>\n",
       "      <th>1</th>\n",
       "      <td>North Twenty Four Parganas</td>\n",
       "      <td>West Bengal</td>\n",
       "      <td>84.06</td>\n",
       "    </tr>\n",
       "    <tr>\n",
       "      <th>2</th>\n",
       "      <td>Bangalore</td>\n",
       "      <td>Karnataka</td>\n",
       "      <td>87.67</td>\n",
       "    </tr>\n",
       "  </tbody>\n",
       "</table>\n",
       "</div>"
      ],
      "text/plain": [
       "                     District        State  Literacy\n",
       "0                       Thane  Maharashtra     84.53\n",
       "1  North Twenty Four Parganas  West Bengal     84.06\n",
       "2                   Bangalore    Karnataka     87.67"
      ]
     },
     "execution_count": 21,
     "metadata": {},
     "output_type": "execute_result"
    }
   ],
   "source": [
    "# Step1 : Reading the csv file and creating a Dataframe  \n",
    "import pandas as pd \n",
    "df=pd.read_csv(\".\\\\CSV\\\\DatabaseDF.csv\")\n",
    "df.drop(\"Unnamed: 0\",axis=1,inplace=True)\n",
    "df['District'] = df['District'].apply(lambda x : x.strip())\n",
    "df['State'] = df['State'].apply(lambda x : x.strip())\n",
    "df.head(3)"
   ]
  },
  {
   "cell_type": "code",
   "execution_count": 15,
   "metadata": {},
   "outputs": [
    {
     "name": "stdout",
     "output_type": "stream",
     "text": [
      "Database 'India' created !\n"
     ]
    }
   ],
   "source": [
    "## Step2 : Creating Database to store the data\n",
    "try:\n",
    "    mydb=connection.connect(host=hostname,user=username,password=password,use_pure=True)\n",
    "    query= \"create database India\"\n",
    "    cursor=mydb.cursor()           \n",
    "    cursor.execute(query)          \n",
    "    print(\"Database 'India' created !\")\n",
    "    mydb.close()\n",
    "except Exception as e :\n",
    "    print(e)"
   ]
  },
  {
   "cell_type": "code",
   "execution_count": 22,
   "metadata": {},
   "outputs": [
    {
     "name": "stdout",
     "output_type": "stream",
     "text": [
      "True\n"
     ]
    }
   ],
   "source": [
    "## Step 3: Check Connection with DB \n",
    "try:\n",
    "    mydb=connection.connect(host=hostname,user=username,password=password,\n",
    "                            database=\"India\", use_pure=True)\n",
    "    ## Check if the database connection is being established\n",
    "    print(mydb.is_connected())                                   \n",
    "    mydb.close()\n",
    "except Exception as e:\n",
    "    print(str(e))"
   ]
  },
  {
   "cell_type": "code",
   "execution_count": 23,
   "metadata": {},
   "outputs": [
    {
     "name": "stdout",
     "output_type": "stream",
     "text": [
      "Table 'Literacy' created !\n"
     ]
    }
   ],
   "source": [
    "# Step4 : Create a Table to store the data \n",
    "try:\n",
    "    mydb=connection.connect(host=hostname,user=username,password=password,database=\"India\", use_pure=True)\n",
    "    cursor=mydb.cursor()\n",
    "    query=\"create table Literacy (ID int(10) auto_increment primary key, \\\n",
    "           District Varchar(50) ,State Varchar(30), Literacy float(5))\"\n",
    "    cursor.execute(query)          \n",
    "    print(\"Table 'Literacy' created !\")\n",
    "    mydb.close()\n",
    "\n",
    "except Exception as e:\n",
    "    print(e)"
   ]
  },
  {
   "cell_type": "code",
   "execution_count": 24,
   "metadata": {},
   "outputs": [],
   "source": [
    "## Step 5 : Inserting data into the Table\n",
    "try:\n",
    "    mydb=connection.connect(host=hostname,user=username,password=password,database=\"India\", use_pure=True)\n",
    "    cursor=mydb.cursor()\n",
    "\n",
    "    colvalues=[]\n",
    "    for i,row in df.iterrows():\n",
    "        colvalues.append(tuple([i+1]+list(row)))\n",
    "\n",
    "    # Insert DataFrame recrds one by one.\n",
    "    for i in colvalues:\n",
    "        query = \"INSERT INTO Literacy VALUES{}\".format(i)\n",
    "        cursor.execute(query)\n",
    "        mydb.commit()\n",
    "        mydb.close()\n",
    "\n",
    "except Exception as e:\n",
    "    print(e)"
   ]
  },
  {
   "cell_type": "code",
   "execution_count": 29,
   "metadata": {},
   "outputs": [],
   "source": [
    "## Step 6 : Retreiving the same data from the MYSQLdatabase \n",
    "try:\n",
    "    mydb=connection.connect(host=hostname,user=username,password=password,database=\"India\", use_pure=True)\n",
    "    query=\"Select * from literacy\"\n",
    "    df_=pd.read_sql(query,mydb)\n",
    "    mydb.close()\n",
    "except Exception as e:\n",
    "    print(e)"
   ]
  },
  {
   "cell_type": "code",
   "execution_count": 31,
   "metadata": {},
   "outputs": [
    {
     "data": {
      "text/html": [
       "<div>\n",
       "<style scoped>\n",
       "    .dataframe tbody tr th:only-of-type {\n",
       "        vertical-align: middle;\n",
       "    }\n",
       "\n",
       "    .dataframe tbody tr th {\n",
       "        vertical-align: top;\n",
       "    }\n",
       "\n",
       "    .dataframe thead th {\n",
       "        text-align: right;\n",
       "    }\n",
       "</style>\n",
       "<table border=\"1\" class=\"dataframe\">\n",
       "  <thead>\n",
       "    <tr style=\"text-align: right;\">\n",
       "      <th></th>\n",
       "      <th>ID</th>\n",
       "      <th>District</th>\n",
       "      <th>State</th>\n",
       "      <th>Literacy</th>\n",
       "    </tr>\n",
       "  </thead>\n",
       "  <tbody>\n",
       "    <tr>\n",
       "      <th>0</th>\n",
       "      <td>1</td>\n",
       "      <td>Thane</td>\n",
       "      <td>Maharashtra</td>\n",
       "      <td>84.53</td>\n",
       "    </tr>\n",
       "    <tr>\n",
       "      <th>1</th>\n",
       "      <td>2</td>\n",
       "      <td>North Twenty Four Parganas</td>\n",
       "      <td>West Bengal</td>\n",
       "      <td>84.06</td>\n",
       "    </tr>\n",
       "    <tr>\n",
       "      <th>2</th>\n",
       "      <td>3</td>\n",
       "      <td>Bangalore</td>\n",
       "      <td>Karnataka</td>\n",
       "      <td>87.67</td>\n",
       "    </tr>\n",
       "  </tbody>\n",
       "</table>\n",
       "</div>"
      ],
      "text/plain": [
       "   ID                    District        State  Literacy\n",
       "0   1                       Thane  Maharashtra     84.53\n",
       "1   2  North Twenty Four Parganas  West Bengal     84.06\n",
       "2   3                   Bangalore    Karnataka     87.67"
      ]
     },
     "execution_count": 31,
     "metadata": {},
     "output_type": "execute_result"
    }
   ],
   "source": [
    "df_.head(3)"
   ]
  },
  {
   "cell_type": "markdown",
   "metadata": {},
   "source": [
    "#### 7. Some other DQL"
   ]
  },
  {
   "cell_type": "code",
   "execution_count": 33,
   "metadata": {},
   "outputs": [],
   "source": [
    "db=connection.connect(host=hostname,user=username,password=password,database=\"India\", use_pure=True)"
   ]
  },
  {
   "cell_type": "code",
   "execution_count": 34,
   "metadata": {},
   "outputs": [
    {
     "data": {
      "text/html": [
       "<div>\n",
       "<style scoped>\n",
       "    .dataframe tbody tr th:only-of-type {\n",
       "        vertical-align: middle;\n",
       "    }\n",
       "\n",
       "    .dataframe tbody tr th {\n",
       "        vertical-align: top;\n",
       "    }\n",
       "\n",
       "    .dataframe thead th {\n",
       "        text-align: right;\n",
       "    }\n",
       "</style>\n",
       "<table border=\"1\" class=\"dataframe\">\n",
       "  <thead>\n",
       "    <tr style=\"text-align: right;\">\n",
       "      <th></th>\n",
       "      <th>State</th>\n",
       "      <th>Districts</th>\n",
       "    </tr>\n",
       "  </thead>\n",
       "  <tbody>\n",
       "    <tr>\n",
       "      <th>0</th>\n",
       "      <td>Uttar Pradesh</td>\n",
       "      <td>71</td>\n",
       "    </tr>\n",
       "    <tr>\n",
       "      <th>1</th>\n",
       "      <td>Madhya Pradesh</td>\n",
       "      <td>50</td>\n",
       "    </tr>\n",
       "    <tr>\n",
       "      <th>2</th>\n",
       "      <td>Bihar</td>\n",
       "      <td>38</td>\n",
       "    </tr>\n",
       "  </tbody>\n",
       "</table>\n",
       "</div>"
      ],
      "text/plain": [
       "            State  Districts\n",
       "0   Uttar Pradesh         71\n",
       "1  Madhya Pradesh         50\n",
       "2           Bihar         38"
      ]
     },
     "execution_count": 34,
     "metadata": {},
     "output_type": "execute_result"
    }
   ],
   "source": [
    "query=\"select State,count(District) as Districts from literacy group by State order by count(District) desc\"\n",
    "df=pd.read_sql(query,db)\n",
    "df.head(3)"
   ]
  },
  {
   "cell_type": "code",
   "execution_count": 35,
   "metadata": {},
   "outputs": [
    {
     "data": {
      "text/html": [
       "<div>\n",
       "<style scoped>\n",
       "    .dataframe tbody tr th:only-of-type {\n",
       "        vertical-align: middle;\n",
       "    }\n",
       "\n",
       "    .dataframe tbody tr th {\n",
       "        vertical-align: top;\n",
       "    }\n",
       "\n",
       "    .dataframe thead th {\n",
       "        text-align: right;\n",
       "    }\n",
       "</style>\n",
       "<table border=\"1\" class=\"dataframe\">\n",
       "  <thead>\n",
       "    <tr style=\"text-align: right;\">\n",
       "      <th></th>\n",
       "      <th>State</th>\n",
       "      <th>Avg(Literacy)</th>\n",
       "    </tr>\n",
       "  </thead>\n",
       "  <tbody>\n",
       "    <tr>\n",
       "      <th>0</th>\n",
       "      <td>Kerala</td>\n",
       "      <td>93.694999</td>\n",
       "    </tr>\n",
       "    <tr>\n",
       "      <th>1</th>\n",
       "      <td>Lakshadweep</td>\n",
       "      <td>91.849998</td>\n",
       "    </tr>\n",
       "    <tr>\n",
       "      <th>2</th>\n",
       "      <td>Mizoram</td>\n",
       "      <td>89.361251</td>\n",
       "    </tr>\n",
       "  </tbody>\n",
       "</table>\n",
       "</div>"
      ],
      "text/plain": [
       "         State  Avg(Literacy)\n",
       "0       Kerala      93.694999\n",
       "1  Lakshadweep      91.849998\n",
       "2      Mizoram      89.361251"
      ]
     },
     "execution_count": 35,
     "metadata": {},
     "output_type": "execute_result"
    }
   ],
   "source": [
    "query=\"select State,Avg(Literacy) from literacy group by State order by Avg(Literacy) desc\"\n",
    "df=pd.read_sql(query,db)\n",
    "df.head(3)"
   ]
  },
  {
   "cell_type": "code",
   "execution_count": 36,
   "metadata": {},
   "outputs": [
    {
     "data": {
      "text/html": [
       "<div>\n",
       "<style scoped>\n",
       "    .dataframe tbody tr th:only-of-type {\n",
       "        vertical-align: middle;\n",
       "    }\n",
       "\n",
       "    .dataframe tbody tr th {\n",
       "        vertical-align: top;\n",
       "    }\n",
       "\n",
       "    .dataframe thead th {\n",
       "        text-align: right;\n",
       "    }\n",
       "</style>\n",
       "<table border=\"1\" class=\"dataframe\">\n",
       "  <thead>\n",
       "    <tr style=\"text-align: right;\">\n",
       "      <th></th>\n",
       "      <th>State</th>\n",
       "      <th>Avg(Literacy)</th>\n",
       "    </tr>\n",
       "  </thead>\n",
       "  <tbody>\n",
       "    <tr>\n",
       "      <th>0</th>\n",
       "      <td>Kerala</td>\n",
       "      <td>93.694999</td>\n",
       "    </tr>\n",
       "    <tr>\n",
       "      <th>1</th>\n",
       "      <td>Lakshadweep</td>\n",
       "      <td>91.849998</td>\n",
       "    </tr>\n",
       "    <tr>\n",
       "      <th>2</th>\n",
       "      <td>Mizoram</td>\n",
       "      <td>89.361251</td>\n",
       "    </tr>\n",
       "    <tr>\n",
       "      <th>3</th>\n",
       "      <td>Goa</td>\n",
       "      <td>88.579998</td>\n",
       "    </tr>\n",
       "    <tr>\n",
       "      <th>4</th>\n",
       "      <td>Puducherry</td>\n",
       "      <td>87.457502</td>\n",
       "    </tr>\n",
       "  </tbody>\n",
       "</table>\n",
       "</div>"
      ],
      "text/plain": [
       "         State  Avg(Literacy)\n",
       "0       Kerala      93.694999\n",
       "1  Lakshadweep      91.849998\n",
       "2      Mizoram      89.361251\n",
       "3          Goa      88.579998\n",
       "4   Puducherry      87.457502"
      ]
     },
     "execution_count": 36,
     "metadata": {},
     "output_type": "execute_result"
    }
   ],
   "source": [
    "query=\"select State,Avg(Literacy) from literacy group by State order by Avg(Literacy) desc limit 5\"\n",
    "df=pd.read_sql(query,db)\n",
    "df"
   ]
  },
  {
   "cell_type": "code",
   "execution_count": 39,
   "metadata": {},
   "outputs": [
    {
     "name": "stdout",
     "output_type": "stream",
     "text": [
      "[('North Twenty Four Parganas',), ('South Twenty Four Parganas',), ('Barddhaman',), ('Murshidabad',), ('Paschim Medinipur',), ('Hugli',), ('Nadia',), ('Purba Medinipur',), ('Haora',), ('Kolkata',), ('Maldah',), ('Jalpaiguri',), ('Bankura',), ('Birbhum',), ('Uttar Dinajpur',), ('Puruliya',), ('Koch Bihar',), ('Darjiling',), ('Dakshin Dinajpur',)]\n"
     ]
    }
   ],
   "source": [
    "# Sorting by average Literacy (Descending)\n",
    "db=connection.connect(host=\"localhost\",database='India',user=\"root\",password=\"1320\",use_pure=True)\n",
    "cursor=db.cursor()\n",
    "query=\"SELECT District from literacy where State='West Bengal'\"\n",
    "cursor.execute(query)\n",
    "print(cursor.fetchall())\n"
   ]
  },
  {
   "cell_type": "code",
   "execution_count": 43,
   "metadata": {},
   "outputs": [
    {
     "name": "stdout",
     "output_type": "stream",
     "text": [
      "[('Uttar Dinajpur',)]\n"
     ]
    }
   ],
   "source": [
    "# Printing the District with most literacy in West Bengal \n",
    "\n",
    "db=connection.connect(host=\"localhost\",database='India',user=\"root\",password=\"1320\",use_pure=True)\n",
    "cursor=db.cursor()\n",
    "query=\"SELECT District from literacy where State='West Bengal' order by Literacy limit 1\"\n",
    "cursor.execute(query)\n",
    "print(cursor.fetchall())"
   ]
  },
  {
   "cell_type": "code",
   "execution_count": 42,
   "metadata": {},
   "outputs": [
    {
     "name": "stdout",
     "output_type": "stream",
     "text": [
      "[('Alirajpur', 'Madhya Pradesh')]\n"
     ]
    }
   ],
   "source": [
    "# Print the District and state with Least Literacy Rate \n",
    "\n",
    "db=connection.connect(host=\"localhost\",database='India',user=\"root\",password=\"1320\",use_pure=True)\n",
    "cursor=db.cursor()\n",
    "query=\"Select District,State from literacy order by Literacy limit 1\"\n",
    "cursor.execute(query)\n",
    "print(cursor.fetchall())\n"
   ]
  }
 ],
 "metadata": {
  "kernelspec": {
   "display_name": "Python 3",
   "language": "python",
   "name": "python3"
  },
  "language_info": {
   "codemirror_mode": {
    "name": "ipython",
    "version": 3
   },
   "file_extension": ".py",
   "mimetype": "text/x-python",
   "name": "python",
   "nbconvert_exporter": "python",
   "pygments_lexer": "ipython3",
   "version": "3.11.4"
  }
 },
 "nbformat": 4,
 "nbformat_minor": 4
}
