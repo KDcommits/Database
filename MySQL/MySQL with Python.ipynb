{
 "cells": [
  {
   "cell_type": "code",
   "execution_count": null,
   "metadata": {},
   "outputs": [],
   "source": [
    "# user= root \n",
    "# password = 7985\n"
   ]
  },
  {
   "cell_type": "code",
   "execution_count": 3,
   "metadata": {},
   "outputs": [],
   "source": [
    "import mysql.connector as connection \n"
   ]
  },
  {
   "cell_type": "code",
   "execution_count": 4,
   "metadata": {},
   "outputs": [
    {
     "name": "stdout",
     "output_type": "stream",
     "text": [
      "True\n"
     ]
    }
   ],
   "source": [
    "try:\n",
    "    mydb=connection.connect(host=\"localhost\",user=\"root\",password=\"7985\",use_pure=True)\n",
    "    print(mydb.is_connected())                                   # To check if connection is established with the Database\n",
    "    #mydb.close()\n",
    "except Exception as e:\n",
    "    print(str(e))"
   ]
  },
  {
   "cell_type": "code",
   "execution_count": 5,
   "metadata": {},
   "outputs": [
    {
     "name": "stdout",
     "output_type": "stream",
     "text": [
      "[(\"b'mavenfuzzyfactory'\",), ('demo',), ('india',), ('information_schema',), ('mavenfuzzyfactory',), ('mysql',), ('performance_schema',), ('sakila',), ('sys',), ('world',)]\n"
     ]
    }
   ],
   "source": [
    "# Getting the default Databases present in MySQL workbench \n",
    "\n",
    "query=\"SHOW DATABASES\"         # Writting the query \n",
    "cursor=mydb.cursor()           # creating a cursor to execute the queries \n",
    "cursor.execute(query)          # Executing the query\n",
    "print(cursor.fetchall())       # Fetching the query result"
   ]
  },
  {
   "cell_type": "code",
   "execution_count": 6,
   "metadata": {},
   "outputs": [
    {
     "name": "stdout",
     "output_type": "stream",
     "text": [
      "Database created !\n"
     ]
    }
   ],
   "source": [
    "# creating a new database \n",
    "\n",
    "query= \"create database MyDatabase\"\n",
    "cursor=mydb.cursor()           \n",
    "cursor.execute(query)          \n",
    "print(\"Database created !\")"
   ]
  },
  {
   "cell_type": "code",
   "execution_count": 4,
   "metadata": {},
   "outputs": [
    {
     "name": "stdout",
     "output_type": "stream",
     "text": [
      "Database Deleted !\n"
     ]
    }
   ],
   "source": [
    "# # Deleting a Database\n",
    "# query= \"drop database MyDatabase\"\n",
    "# cursor=mydb.cursor()           \n",
    "# cursor.execute(query)          \n",
    "# print(\"Database Deleted !\")"
   ]
  },
  {
   "cell_type": "code",
   "execution_count": 5,
   "metadata": {},
   "outputs": [],
   "source": [
    "mydb.close()           #To shutdown the database from python side "
   ]
  },
  {
   "cell_type": "code",
   "execution_count": 5,
   "metadata": {},
   "outputs": [
    {
     "name": "stdout",
     "output_type": "stream",
     "text": [
      "1049 (42000): Unknown database 'mydatabase'\n"
     ]
    }
   ],
   "source": [
    "# creating table to the database \"MyDatabase\"\n",
    "# Dont miss putting the database name in the connect function argument\n",
    "try:\n",
    "    mydb=connection.connect(host=\"localhost\",database=\"MyDatabase\",user=\"root\",password=\"7985\",use_pure=True)\n",
    "    print(mydb.is_connected())                                   # To check if connection is established with the Database\n",
    "    #mydb.close()\n",
    "except Exception as e:\n",
    "    print(str(e))"
   ]
  },
  {
   "cell_type": "code",
   "execution_count": 9,
   "metadata": {},
   "outputs": [
    {
     "name": "stdout",
     "output_type": "stream",
     "text": [
      "Table created !\n"
     ]
    }
   ],
   "source": [
    "# Table creation\n",
    "query=\"create table Students (Student_ID int(10) auto_increment primary key, First_Name Varchar(20) ,Last_Name Varchar(20), Score int(3))\"\n",
    "cursor=mydb.cursor()           \n",
    "cursor.execute(query)          \n",
    "print(\"Table created !\")"
   ]
  },
  {
   "cell_type": "code",
   "execution_count": 10,
   "metadata": {},
   "outputs": [
    {
     "name": "stdout",
     "output_type": "stream",
     "text": [
      "Data Inserted into the table\n"
     ]
    }
   ],
   "source": [
    "# Inserting Data into the Table\n",
    "\n",
    "query1=\"Insert into Students Values(201615001,'Abheek','Nandy',91)\"\n",
    "\n",
    "\n",
    "queries=[query1,query2,query3]\n",
    "for i in queries:\n",
    "    cursor=mydb.cursor()           \n",
    "    cursor.execute(i)\n",
    "    mydb.commit()                               # For every data insertion we need to commit\n",
    "print(\"Data Inserted into the table\")"
   ]
  },
  {
   "cell_type": "code",
   "execution_count": 6,
   "metadata": {},
   "outputs": [
    {
     "name": "stdout",
     "output_type": "stream",
     "text": [
      "[(201615001, 'Abheek', 'Nandy', 91), (201615002, 'Abhranil', 'Roy', 82), (201615003, 'Amalendu', 'Mahali', 61)]\n"
     ]
    }
   ],
   "source": [
    "# Retreiving data from the Database\n",
    "\n",
    "query=\"Select * from Students\"\n",
    "cursor=mydb.cursor()           \n",
    "cursor.execute(query)\n",
    "print(cursor.fetchall())"
   ]
  },
  {
   "cell_type": "markdown",
   "metadata": {},
   "source": [
    "#### Inserting a Whole Dataframe into MYSQL database"
   ]
  },
  {
   "cell_type": "code",
   "execution_count": 33,
   "metadata": {},
   "outputs": [
    {
     "data": {
      "text/html": [
       "<div>\n",
       "<style scoped>\n",
       "    .dataframe tbody tr th:only-of-type {\n",
       "        vertical-align: middle;\n",
       "    }\n",
       "\n",
       "    .dataframe tbody tr th {\n",
       "        vertical-align: top;\n",
       "    }\n",
       "\n",
       "    .dataframe thead th {\n",
       "        text-align: right;\n",
       "    }\n",
       "</style>\n",
       "<table border=\"1\" class=\"dataframe\">\n",
       "  <thead>\n",
       "    <tr style=\"text-align: right;\">\n",
       "      <th></th>\n",
       "      <th>District</th>\n",
       "      <th>State</th>\n",
       "      <th>Literacy</th>\n",
       "    </tr>\n",
       "  </thead>\n",
       "  <tbody>\n",
       "    <tr>\n",
       "      <th>0</th>\n",
       "      <td>Thane</td>\n",
       "      <td>Maharashtra</td>\n",
       "      <td>84.53</td>\n",
       "    </tr>\n",
       "    <tr>\n",
       "      <th>1</th>\n",
       "      <td>North Twenty Four Parganas</td>\n",
       "      <td>West Bengal</td>\n",
       "      <td>84.06</td>\n",
       "    </tr>\n",
       "    <tr>\n",
       "      <th>2</th>\n",
       "      <td>Bangalore</td>\n",
       "      <td>Karnataka</td>\n",
       "      <td>87.67</td>\n",
       "    </tr>\n",
       "  </tbody>\n",
       "</table>\n",
       "</div>"
      ],
      "text/plain": [
       "                      District         State  Literacy\n",
       "0                        Thane   Maharashtra     84.53\n",
       "1   North Twenty Four Parganas   West Bengal     84.06\n",
       "2                    Bangalore     Karnataka     87.67"
      ]
     },
     "execution_count": 33,
     "metadata": {},
     "output_type": "execute_result"
    }
   ],
   "source": [
    "# Step1 : Reading the csv file and creating a Dataframe  \n",
    "import pandas as pd \n",
    "df=pd.read_csv(\"DatabaseDF.csv\")\n",
    "df.drop(\"Unnamed: 0\",axis=1,inplace=True)\n",
    "df.head(3)"
   ]
  },
  {
   "cell_type": "code",
   "execution_count": 34,
   "metadata": {},
   "outputs": [
    {
     "name": "stderr",
     "output_type": "stream",
     "text": [
      "C:\\Users\\Krishnendu\\AppData\\Local\\Temp\\ipykernel_6296\\3172979591.py:3: SettingWithCopyWarning: \n",
      "A value is trying to be set on a copy of a slice from a DataFrame\n",
      "\n",
      "See the caveats in the documentation: https://pandas.pydata.org/pandas-docs/stable/user_guide/indexing.html#returning-a-view-versus-a-copy\n",
      "  df.State[i]=df.State[i][1:]\n",
      "C:\\Users\\Krishnendu\\AppData\\Local\\Temp\\ipykernel_6296\\3172979591.py:4: SettingWithCopyWarning: \n",
      "A value is trying to be set on a copy of a slice from a DataFrame\n",
      "\n",
      "See the caveats in the documentation: https://pandas.pydata.org/pandas-docs/stable/user_guide/indexing.html#returning-a-view-versus-a-copy\n",
      "  df.District[i]=df.District[i][1:]\n"
     ]
    }
   ],
   "source": [
    "def Strip(df):\n",
    "    for i in range(df.shape[0]):\n",
    "        df.State[i]=df.State[i][1:]\n",
    "        df.District[i]=df.District[i][1:]\n",
    "        \n",
    "    \n",
    "Strip(df)      "
   ]
  },
  {
   "cell_type": "code",
   "execution_count": null,
   "metadata": {},
   "outputs": [],
   "source": []
  },
  {
   "cell_type": "code",
   "execution_count": 15,
   "metadata": {},
   "outputs": [
    {
     "name": "stdout",
     "output_type": "stream",
     "text": [
      "Database 'India' created !\n"
     ]
    }
   ],
   "source": [
    "# # Step2 : Creating Database to store the data\n",
    "\n",
    "mydb=connection.connect(host=\"localhost\",user=\"root\",password=\"7985\",use_pure=True)\n",
    "query= \"create database India\"\n",
    "cursor=mydb.cursor()           \n",
    "cursor.execute(query)          \n",
    "print(\"Database 'India' created !\")"
   ]
  },
  {
   "cell_type": "code",
   "execution_count": 36,
   "metadata": {},
   "outputs": [],
   "source": [
    "db=connection.connect(host=\"localhost\",database='India',user=\"root\",password=\"7985\",use_pure=True)\n",
    "cursor=db.cursor()"
   ]
  },
  {
   "cell_type": "code",
   "execution_count": null,
   "metadata": {},
   "outputs": [],
   "source": []
  },
  {
   "cell_type": "code",
   "execution_count": 37,
   "metadata": {},
   "outputs": [
    {
     "name": "stdout",
     "output_type": "stream",
     "text": [
      "Table 'Literacy' created !\n"
     ]
    }
   ],
   "source": [
    "# Step3 : Create a Table to store the data \n",
    "\n",
    "query=\"create table Literacy (ID int(10) auto_increment primary key, District Varchar(50) ,State Varchar(30), Literacy float(5))\"\n",
    "cursor.execute(query)          \n",
    "print(\"Table 'Literacy' created !\")"
   ]
  },
  {
   "cell_type": "code",
   "execution_count": null,
   "metadata": {},
   "outputs": [],
   "source": [
    "# # To delete a Table\n",
    "# query=\"drop table Literacy\"\n",
    "# cursor=db.cursor()           \n",
    "# cursor.execute(query)          \n",
    "# print(\"table Deleted !\")"
   ]
  },
  {
   "cell_type": "code",
   "execution_count": 38,
   "metadata": {},
   "outputs": [],
   "source": [
    "# Step 4 : Inserting data into the Table\n",
    "\n",
    "db=connection.connect(host=\"localhost\",database='india',user=\"root\",password=\"7985\",use_pure=True)\n",
    "cursor=db.cursor()\n",
    "\n",
    "# cols = \"`,`\".join(['ID']+[str(i) for i in df.columns.tolist()])\n",
    "colvalues=[]\n",
    "for i,row in df.iterrows():\n",
    "    colvalues.append(tuple([i+1]+list(row)))\n",
    "\n",
    "# Insert DataFrame recrds one by one.\n",
    "for i in colvalues:\n",
    "    query = \"INSERT INTO Literacy VALUES{}\".format(i)\n",
    "    cursor.execute(query)\n",
    "    db.commit()"
   ]
  },
  {
   "cell_type": "code",
   "execution_count": 39,
   "metadata": {},
   "outputs": [
    {
     "data": {
      "text/html": [
       "<div>\n",
       "<style scoped>\n",
       "    .dataframe tbody tr th:only-of-type {\n",
       "        vertical-align: middle;\n",
       "    }\n",
       "\n",
       "    .dataframe tbody tr th {\n",
       "        vertical-align: top;\n",
       "    }\n",
       "\n",
       "    .dataframe thead th {\n",
       "        text-align: right;\n",
       "    }\n",
       "</style>\n",
       "<table border=\"1\" class=\"dataframe\">\n",
       "  <thead>\n",
       "    <tr style=\"text-align: right;\">\n",
       "      <th></th>\n",
       "      <th>ID</th>\n",
       "      <th>District</th>\n",
       "      <th>State</th>\n",
       "      <th>Literacy</th>\n",
       "    </tr>\n",
       "  </thead>\n",
       "  <tbody>\n",
       "    <tr>\n",
       "      <th>0</th>\n",
       "      <td>1</td>\n",
       "      <td>Thane</td>\n",
       "      <td>Maharashtra</td>\n",
       "      <td>84.53</td>\n",
       "    </tr>\n",
       "    <tr>\n",
       "      <th>1</th>\n",
       "      <td>2</td>\n",
       "      <td>North Twenty Four Parganas</td>\n",
       "      <td>West Bengal</td>\n",
       "      <td>84.06</td>\n",
       "    </tr>\n",
       "    <tr>\n",
       "      <th>2</th>\n",
       "      <td>3</td>\n",
       "      <td>Bangalore</td>\n",
       "      <td>Karnataka</td>\n",
       "      <td>87.67</td>\n",
       "    </tr>\n",
       "  </tbody>\n",
       "</table>\n",
       "</div>"
      ],
      "text/plain": [
       "   ID                    District        State  Literacy\n",
       "0   1                       Thane  Maharashtra     84.53\n",
       "1   2  North Twenty Four Parganas  West Bengal     84.06\n",
       "2   3                   Bangalore    Karnataka     87.67"
      ]
     },
     "execution_count": 39,
     "metadata": {},
     "output_type": "execute_result"
    }
   ],
   "source": [
    "# Step5 : Retreiving the same data from the MYSQLdatabase \n",
    "db=connection.connect(host=\"localhost\",database='India',user=\"root\",password=\"7985\",use_pure=True)\n",
    "query=\"Select * from literacy\"\n",
    "df=pd.read_sql(query,db)\n",
    "df.head(3)"
   ]
  },
  {
   "cell_type": "code",
   "execution_count": 40,
   "metadata": {},
   "outputs": [
    {
     "data": {
      "text/html": [
       "<div>\n",
       "<style scoped>\n",
       "    .dataframe tbody tr th:only-of-type {\n",
       "        vertical-align: middle;\n",
       "    }\n",
       "\n",
       "    .dataframe tbody tr th {\n",
       "        vertical-align: top;\n",
       "    }\n",
       "\n",
       "    .dataframe thead th {\n",
       "        text-align: right;\n",
       "    }\n",
       "</style>\n",
       "<table border=\"1\" class=\"dataframe\">\n",
       "  <thead>\n",
       "    <tr style=\"text-align: right;\">\n",
       "      <th></th>\n",
       "      <th>State</th>\n",
       "      <th>Districts</th>\n",
       "    </tr>\n",
       "  </thead>\n",
       "  <tbody>\n",
       "    <tr>\n",
       "      <th>0</th>\n",
       "      <td>Uttar Pradesh</td>\n",
       "      <td>71</td>\n",
       "    </tr>\n",
       "    <tr>\n",
       "      <th>1</th>\n",
       "      <td>Madhya Pradesh</td>\n",
       "      <td>50</td>\n",
       "    </tr>\n",
       "    <tr>\n",
       "      <th>2</th>\n",
       "      <td>Bihar</td>\n",
       "      <td>38</td>\n",
       "    </tr>\n",
       "  </tbody>\n",
       "</table>\n",
       "</div>"
      ],
      "text/plain": [
       "            State  Districts\n",
       "0   Uttar Pradesh         71\n",
       "1  Madhya Pradesh         50\n",
       "2           Bihar         38"
      ]
     },
     "execution_count": 40,
     "metadata": {},
     "output_type": "execute_result"
    }
   ],
   "source": [
    "# Other Queries : Groupby , to get the number of districts for each state in Descending order\n",
    "db=connection.connect(host=\"localhost\",database='India',user=\"root\",password=\"7985\",use_pure=True)\n",
    "query=\"select State,count(District) as Districts from literacy group by State order by count(District) desc\"\n",
    "df=pd.read_sql(query,db)\n",
    "df.head(3)"
   ]
  },
  {
   "cell_type": "code",
   "execution_count": 41,
   "metadata": {},
   "outputs": [
    {
     "data": {
      "text/html": [
       "<div>\n",
       "<style scoped>\n",
       "    .dataframe tbody tr th:only-of-type {\n",
       "        vertical-align: middle;\n",
       "    }\n",
       "\n",
       "    .dataframe tbody tr th {\n",
       "        vertical-align: top;\n",
       "    }\n",
       "\n",
       "    .dataframe thead th {\n",
       "        text-align: right;\n",
       "    }\n",
       "</style>\n",
       "<table border=\"1\" class=\"dataframe\">\n",
       "  <thead>\n",
       "    <tr style=\"text-align: right;\">\n",
       "      <th></th>\n",
       "      <th>State</th>\n",
       "      <th>Avg(Literacy)</th>\n",
       "    </tr>\n",
       "  </thead>\n",
       "  <tbody>\n",
       "    <tr>\n",
       "      <th>0</th>\n",
       "      <td>Kerala</td>\n",
       "      <td>93.694999</td>\n",
       "    </tr>\n",
       "    <tr>\n",
       "      <th>1</th>\n",
       "      <td>Lakshadweep</td>\n",
       "      <td>91.849998</td>\n",
       "    </tr>\n",
       "    <tr>\n",
       "      <th>2</th>\n",
       "      <td>Mizoram</td>\n",
       "      <td>89.361251</td>\n",
       "    </tr>\n",
       "  </tbody>\n",
       "</table>\n",
       "</div>"
      ],
      "text/plain": [
       "         State  Avg(Literacy)\n",
       "0       Kerala      93.694999\n",
       "1  Lakshadweep      91.849998\n",
       "2      Mizoram      89.361251"
      ]
     },
     "execution_count": 41,
     "metadata": {},
     "output_type": "execute_result"
    }
   ],
   "source": [
    "# Sorting by average Literacy (Descending)\n",
    "db=connection.connect(host=\"localhost\",database='India',user=\"root\",password=\"7985\",use_pure=True)\n",
    "query=\"select State,Avg(Literacy) from literacy group by State order by Avg(Literacy) desc\"\n",
    "df=pd.read_sql(query,db)\n",
    "df.head(3)"
   ]
  },
  {
   "cell_type": "code",
   "execution_count": 42,
   "metadata": {},
   "outputs": [
    {
     "data": {
      "text/html": [
       "<div>\n",
       "<style scoped>\n",
       "    .dataframe tbody tr th:only-of-type {\n",
       "        vertical-align: middle;\n",
       "    }\n",
       "\n",
       "    .dataframe tbody tr th {\n",
       "        vertical-align: top;\n",
       "    }\n",
       "\n",
       "    .dataframe thead th {\n",
       "        text-align: right;\n",
       "    }\n",
       "</style>\n",
       "<table border=\"1\" class=\"dataframe\">\n",
       "  <thead>\n",
       "    <tr style=\"text-align: right;\">\n",
       "      <th></th>\n",
       "      <th>State</th>\n",
       "      <th>Avg(Literacy)</th>\n",
       "    </tr>\n",
       "  </thead>\n",
       "  <tbody>\n",
       "    <tr>\n",
       "      <th>0</th>\n",
       "      <td>Kerala</td>\n",
       "      <td>93.694999</td>\n",
       "    </tr>\n",
       "    <tr>\n",
       "      <th>1</th>\n",
       "      <td>Lakshadweep</td>\n",
       "      <td>91.849998</td>\n",
       "    </tr>\n",
       "    <tr>\n",
       "      <th>2</th>\n",
       "      <td>Mizoram</td>\n",
       "      <td>89.361251</td>\n",
       "    </tr>\n",
       "    <tr>\n",
       "      <th>3</th>\n",
       "      <td>Goa</td>\n",
       "      <td>88.579998</td>\n",
       "    </tr>\n",
       "    <tr>\n",
       "      <th>4</th>\n",
       "      <td>Puducherry</td>\n",
       "      <td>87.457502</td>\n",
       "    </tr>\n",
       "  </tbody>\n",
       "</table>\n",
       "</div>"
      ],
      "text/plain": [
       "         State  Avg(Literacy)\n",
       "0       Kerala      93.694999\n",
       "1  Lakshadweep      91.849998\n",
       "2      Mizoram      89.361251\n",
       "3          Goa      88.579998\n",
       "4   Puducherry      87.457502"
      ]
     },
     "execution_count": 42,
     "metadata": {},
     "output_type": "execute_result"
    }
   ],
   "source": [
    "# Sorting by average Literacy (Descending)\n",
    "db=connection.connect(host=\"localhost\",database='India',user=\"root\",password=\"7985\",use_pure=True)\n",
    "query=\"select State,Avg(Literacy) from literacy group by State order by Avg(Literacy) desc limit 5\"\n",
    "df=pd.read_sql(query,db)\n",
    "df"
   ]
  },
  {
   "cell_type": "code",
   "execution_count": 46,
   "metadata": {},
   "outputs": [
    {
     "name": "stdout",
     "output_type": "stream",
     "text": [
      "[('North Twenty Four Parganas',), ('South Twenty Four Parganas',), ('Barddhaman',), ('Murshidabad',), ('Paschim Medinipur',), ('Hugli',), ('Nadia',), ('Purba Medinipur',), ('Haora',), ('Kolkata',), ('Maldah',), ('Jalpaiguri',), ('Bankura',), ('Birbhum',), ('Uttar Dinajpur',), ('Puruliya',), ('Koch Bihar',), ('Darjiling',), ('Dakshin Dinajpur',)]\n"
     ]
    }
   ],
   "source": [
    "# Sorting by average Literacy (Descending)\n",
    "db=connection.connect(host=\"localhost\",database='India',user=\"root\",password=\"7985\",use_pure=True)\n",
    "cursor=db.cursor()\n",
    "query=\"SELECT District from literacy where State='West Bengal'\"\n",
    "cursor.execute(query)\n",
    "print(cursor.fetchall())\n"
   ]
  },
  {
   "cell_type": "code",
   "execution_count": 37,
   "metadata": {},
   "outputs": [
    {
     "name": "stdout",
     "output_type": "stream",
     "text": [
      "[(' Uttar Dinajpur',)]\n"
     ]
    }
   ],
   "source": [
    "# Printing the District with most literacy in West Bengal \n",
    "\n",
    "db=connection.connect(host=\"localhost\",database='India',user=\"root\",password=\"7985\",use_pure=True)\n",
    "cursor=db.cursor()\n",
    "query=\"SELECT District from literacy where State=' West Bengal' order by Literacy limit 1\"\n",
    "cursor.execute(query)\n",
    "print(cursor.fetchall())"
   ]
  },
  {
   "cell_type": "code",
   "execution_count": 47,
   "metadata": {},
   "outputs": [
    {
     "name": "stdout",
     "output_type": "stream",
     "text": [
      "[(' Alirajpur', ' Madhya Pradesh')]\n"
     ]
    }
   ],
   "source": [
    "# Print the District and state with Least Literacy Rate \n",
    "\n",
    "db=connection.connect(host=\"localhost\",database='India',user=\"root\",password=\"7985\",use_pure=True)\n",
    "cursor=db.cursor()\n",
    "query=\"Select District,State from literacy order by Literacy limit 1\"\n",
    "cursor.execute(query)\n",
    "print(cursor.fetchall())"
   ]
  },
  {
   "cell_type": "code",
   "execution_count": null,
   "metadata": {},
   "outputs": [],
   "source": []
  }
 ],
 "metadata": {
  "kernelspec": {
   "display_name": "Python 3",
   "language": "python",
   "name": "python3"
  },
  "language_info": {
   "codemirror_mode": {
    "name": "ipython",
    "version": 3
   },
   "file_extension": ".py",
   "mimetype": "text/x-python",
   "name": "python",
   "nbconvert_exporter": "python",
   "pygments_lexer": "ipython3",
   "version": "3.8.5"
  }
 },
 "nbformat": 4,
 "nbformat_minor": 4
}
